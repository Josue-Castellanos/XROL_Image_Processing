{
 "cells": [
  {
   "cell_type": "code",
   "execution_count": null,
   "metadata": {},
   "outputs": [],
   "source": [
    "from xrol.jcxrol import H5 as h5\n",
    "from xrol.jcxrol import Plot as plt\n",
    "\n",
    "file_path = '/Volumes/SanDisk/LDRD_DiaboloidMetrology/2024Trials/px.flat.datx'"
   ]
  },
  {
   "cell_type": "markdown",
   "metadata": {},
   "source": [
    "**1) Which part of the hdf5 file is the surface, and which is the intensity, and which is the header?**"
   ]
  },
  {
   "cell_type": "code",
   "execution_count": null,
   "metadata": {},
   "outputs": [],
   "source": [
    "# Surface Data\n",
    "surface_data, sunit = h5.ReadFile(file_path, type='surface')"
   ]
  },
  {
   "cell_type": "code",
   "execution_count": null,
   "metadata": {},
   "outputs": [],
   "source": [
    "# Intensity Data\n",
    "intensity_data, iunit = h5.ReadFile(file_path, type='intensity') "
   ]
  },
  {
   "cell_type": "code",
   "execution_count": null,
   "metadata": {},
   "outputs": [],
   "source": [
    "# Header Data\n",
    "header_data = h5.ReadFile(file_path, type='header')"
   ]
  },
  {
   "cell_type": "markdown",
   "metadata": {},
   "source": [
    "**2) How long is the substrate?**\n",
    "\t\t\n",
    "\t\tTo determine the length of the substrate from the Fizeau interferometer scan data, we need to extract relevant information \n",
    "    \tabout the lateral resolution and the dimensions of the Substrate. Here's how we can interpret the data provided:\n",
    "\t\tPixels:\n",
    "\t\t\t\n",
    "\t\tLateral Resolution:\n",
    "\t\t\tResolution: meters per pixel\n",
    "\n",
    "\t\tHere's my calculation:\n",
    "\t\t\tLength of substrate = Pixels x Resolution"
   ]
  },
  {
   "cell_type": "code",
   "execution_count": null,
   "metadata": {},
   "outputs": [],
   "source": [
    "c = h5.GetTotalColumnsList(surface_data)\n",
    "gc = h5.GetGoodPixelList(c)\n",
    "t = h5.GetGoodCount(gc)\n",
    "print(t)\n",
    "print(h5.GetSubstrateLength(t), \"Meters\")\n"
   ]
  },
  {
   "cell_type": "code",
   "execution_count": null,
   "metadata": {},
   "outputs": [],
   "source": [
    "r = h5.GetTotalRowsList(surface_data)\n",
    "gr = h5.GetGoodPixelList(r)\n",
    "t = h5.GetGoodCount(gr)\n",
    "print(t)\n",
    "print(h5.GetSubstrateLength(t), \"Meters\")"
   ]
  },
  {
   "cell_type": "markdown",
   "metadata": {},
   "source": [
    "**4) How to deal with the dead points**"
   ]
  },
  {
   "cell_type": "code",
   "execution_count": null,
   "metadata": {},
   "outputs": [],
   "source": [
    "row_data = h5.GetTotalRowsList(surface_data)\n",
    "row_data = h5.GetGoodPixelList(row_data)\n",
    "for k,v in row_data.items():\n",
    "    print(f'{k}: {v}')\n"
   ]
  },
  {
   "cell_type": "markdown",
   "metadata": {},
   "source": [
    "**A Standard Deviation is a measure of how dispersed the data is in relation to the mean**"
   ]
  },
  {
   "cell_type": "code",
   "execution_count": null,
   "metadata": {},
   "outputs": [],
   "source": [
    "print(h5.GetStandardDev(row_data), \"Pixels\")\n",
    "# Multiply lat res"
   ]
  },
  {
   "cell_type": "code",
   "execution_count": null,
   "metadata": {},
   "outputs": [],
   "source": [
    "firstlast_row = h5.GetFirstLastRow(surface_data)\n",
    "for k,v in firstlast_row.items():\n",
    "    print(f\"{k}: First good pixel at column {v['first_good']}, Last good pixel at column {v['last_good']}\")"
   ]
  },
  {
   "cell_type": "code",
   "execution_count": null,
   "metadata": {},
   "outputs": [],
   "source": [
    "col_data = h5.GetTotalColumnsList(surface_data)\n",
    "col_data = h5.GetGoodPixelList(col_data)\n",
    "for k,v in col_data.items():\n",
    "    print(f'{k}: {v}')"
   ]
  },
  {
   "cell_type": "code",
   "execution_count": null,
   "metadata": {},
   "outputs": [],
   "source": [
    "firstlast_col = h5.GetFirstLastColumn(surface_data)\n",
    "for k,v in firstlast_col.items():\n",
    "    print(f\"{k}: First good pixel at row {v['first_good']}, Last good pixel at row {v['last_good']}\")"
   ]
  },
  {
   "cell_type": "code",
   "execution_count": null,
   "metadata": {},
   "outputs": [],
   "source": [
    "plt.PlotData(surface_data)"
   ]
  },
  {
   "cell_type": "code",
   "execution_count": null,
   "metadata": {},
   "outputs": [],
   "source": [
    "plt.PlotData(intensity_data)"
   ]
  }
 ],
 "metadata": {
  "kernelspec": {
   "display_name": ".venv",
   "language": "python",
   "name": "python3"
  },
  "language_info": {
   "codemirror_mode": {
    "name": "ipython",
    "version": 3
   },
   "file_extension": ".py",
   "mimetype": "text/x-python",
   "name": "python",
   "nbconvert_exporter": "python",
   "pygments_lexer": "ipython3",
   "version": "3.12.3"
  }
 },
 "nbformat": 4,
 "nbformat_minor": 2
}

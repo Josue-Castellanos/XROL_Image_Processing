{
 "cells": [
  {
   "cell_type": "code",
   "execution_count": 1,
   "metadata": {},
   "outputs": [],
   "source": [
    "from xrol.jcxrol import H5 as h5\n",
    "\n",
    "file_path = '/Volumes/SanDisk/ZygoNewView/VLSgrating_600_lpmm/far_edge_2.75x_portionTIny.datx'"
   ]
  },
  {
   "cell_type": "markdown",
   "metadata": {},
   "source": [
    "**1) Which part of the hdf5 file is the surface, and which is the intensity, and which is the header?**"
   ]
  },
  {
   "cell_type": "code",
   "execution_count": 2,
   "metadata": {},
   "outputs": [],
   "source": [
    "# Surface Data\n",
    "surface_data, sunit = h5.ReadFile(file_path, type='surface')"
   ]
  },
  {
   "cell_type": "code",
   "execution_count": 3,
   "metadata": {},
   "outputs": [],
   "source": [
    "# Intensity Data\n",
    "intensity_data, iunit = h5.ReadFile(file_path, type='intensity') "
   ]
  },
  {
   "cell_type": "code",
   "execution_count": 4,
   "metadata": {},
   "outputs": [],
   "source": [
    "# Header Data\n",
    "header_data = h5.ReadFile(file_path, type='header')"
   ]
  },
  {
   "cell_type": "markdown",
   "metadata": {},
   "source": [
    "**2) How long is the substrate?**\n",
    "\t\t\n",
    "\t\tTo determine the length of the substrate from the Fizeau interferometer scan data, we need to extract relevant information \n",
    "    \tabout the lateral resolution and the dimensions of the scanned area. Here's how we can interpret the data provided:\n",
    "\n",
    "\t\tLateral Resolution:\n",
    "\t\t\tResolution: meters per pixel\n",
    "\n",
    "\t\tCamera Window:\n",
    "\t\t\tWindow: (x_start, y_start, x_end, y_end) pixels\n",
    "\n",
    "\t\tHere's my calculation:\n",
    "\t\t\tLength of substrate = (x_end | y_end) x Resolution"
   ]
  },
  {
   "cell_type": "code",
   "execution_count": 5,
   "metadata": {},
   "outputs": [
    {
     "name": "stdout",
     "output_type": "stream",
     "text": [
      "0.003737403866456745\n"
     ]
    }
   ],
   "source": [
    "height = h5.GetSubstrateHeight()\n",
    "print(height)"
   ]
  },
  {
   "cell_type": "code",
   "execution_count": 6,
   "metadata": {},
   "outputs": [
    {
     "name": "stdout",
     "output_type": "stream",
     "text": [
      "0.0049832051552756605\n"
     ]
    }
   ],
   "source": [
    "width = h5.GetSubstrateWidth()\n",
    "print(width)"
   ]
  },
  {
   "cell_type": "markdown",
   "metadata": {},
   "source": [
    "**3) Which way is up**"
   ]
  },
  {
   "cell_type": "code",
   "execution_count": 7,
   "metadata": {},
   "outputs": [
    {
     "name": "stdout",
     "output_type": "stream",
     "text": [
      "Downward\n"
     ]
    }
   ],
   "source": [
    "dir = h5.GetScanDirection()\n",
    "print(dir[0])"
   ]
  },
  {
   "cell_type": "markdown",
   "metadata": {},
   "source": [
    "**4) How to deal with the dead points**"
   ]
  },
  {
   "cell_type": "code",
   "execution_count": 8,
   "metadata": {},
   "outputs": [
    {
     "name": "stdout",
     "output_type": "stream",
     "text": [
      "\n",
      "Number of Rows with Good Pixels:  52\n",
      "Average Pixels per Row:  69.11538461538461\n",
      "row 0: 86\n",
      "row 1: 86\n",
      "row 2: 86\n",
      "row 3: 86\n",
      "row 4: 86\n",
      "row 5: 86\n",
      "row 6: 86\n",
      "row 7: 86\n",
      "row 8: 86\n",
      "row 9: 86\n",
      "row 10: 86\n",
      "row 11: 86\n",
      "row 12: 86\n",
      "row 13: 86\n",
      "row 14: 86\n",
      "row 15: 86\n",
      "row 16: 86\n",
      "row 17: 86\n",
      "row 18: 86\n",
      "row 19: 86\n",
      "row 20: 86\n",
      "row 21: 86\n",
      "row 22: 86\n",
      "row 23: 86\n",
      "row 24: 86\n",
      "row 25: 86\n",
      "row 26: 86\n",
      "row 27: 84\n",
      "row 28: 83\n",
      "row 29: 80\n",
      "row 30: 78\n",
      "row 31: 78\n",
      "row 32: 76\n",
      "row 33: 77\n",
      "row 34: 74\n",
      "row 35: 69\n",
      "row 36: 68\n",
      "row 37: 60\n",
      "row 38: 56\n",
      "row 39: 53\n",
      "row 40: 43\n",
      "row 41: 41\n",
      "row 42: 40\n",
      "row 43: 36\n",
      "row 44: 31\n",
      "row 45: 30\n",
      "row 46: 30\n",
      "row 47: 27\n",
      "row 48: 24\n",
      "row 49: 16\n",
      "row 50: 13\n",
      "row 51: 5\n"
     ]
    }
   ],
   "source": [
    "row_data = h5.GetRowGoodPixel(surface_data)\n",
    "for k,v in row_data.items():\n",
    "    print(f'{k}: {v}')"
   ]
  },
  {
   "cell_type": "code",
   "execution_count": 9,
   "metadata": {},
   "outputs": [
    {
     "name": "stdout",
     "output_type": "stream",
     "text": [
      "row 0: First good pixel at row 0, Last good pixel at row 85\n",
      "row 1: First good pixel at row 0, Last good pixel at row 85\n",
      "row 2: First good pixel at row 0, Last good pixel at row 85\n",
      "row 3: First good pixel at row 0, Last good pixel at row 85\n",
      "row 4: First good pixel at row 0, Last good pixel at row 85\n",
      "row 5: First good pixel at row 0, Last good pixel at row 85\n",
      "row 6: First good pixel at row 0, Last good pixel at row 85\n",
      "row 7: First good pixel at row 0, Last good pixel at row 85\n",
      "row 8: First good pixel at row 0, Last good pixel at row 85\n",
      "row 9: First good pixel at row 0, Last good pixel at row 85\n",
      "row 10: First good pixel at row 0, Last good pixel at row 85\n",
      "row 11: First good pixel at row 0, Last good pixel at row 85\n",
      "row 12: First good pixel at row 0, Last good pixel at row 85\n",
      "row 13: First good pixel at row 0, Last good pixel at row 85\n",
      "row 14: First good pixel at row 0, Last good pixel at row 85\n",
      "row 15: First good pixel at row 0, Last good pixel at row 85\n",
      "row 16: First good pixel at row 0, Last good pixel at row 85\n",
      "row 17: First good pixel at row 0, Last good pixel at row 85\n",
      "row 18: First good pixel at row 0, Last good pixel at row 85\n",
      "row 19: First good pixel at row 0, Last good pixel at row 85\n",
      "row 20: First good pixel at row 0, Last good pixel at row 85\n",
      "row 21: First good pixel at row 0, Last good pixel at row 85\n",
      "row 22: First good pixel at row 0, Last good pixel at row 85\n",
      "row 23: First good pixel at row 0, Last good pixel at row 85\n",
      "row 24: First good pixel at row 0, Last good pixel at row 85\n",
      "row 25: First good pixel at row 0, Last good pixel at row 85\n",
      "row 26: First good pixel at row 0, Last good pixel at row 85\n",
      "row 27: First good pixel at row 0, Last good pixel at row 85\n",
      "row 28: First good pixel at row 0, Last good pixel at row 85\n",
      "row 29: First good pixel at row 0, Last good pixel at row 85\n",
      "row 30: First good pixel at row 0, Last good pixel at row 85\n",
      "row 31: First good pixel at row 0, Last good pixel at row 85\n",
      "row 32: First good pixel at row 0, Last good pixel at row 85\n",
      "row 33: First good pixel at row 0, Last good pixel at row 85\n",
      "row 34: First good pixel at row 0, Last good pixel at row 85\n",
      "row 35: First good pixel at row 0, Last good pixel at row 85\n",
      "row 36: First good pixel at row 0, Last good pixel at row 85\n",
      "row 37: First good pixel at row 0, Last good pixel at row 85\n",
      "row 38: First good pixel at row 0, Last good pixel at row 85\n",
      "row 39: First good pixel at row 0, Last good pixel at row 85\n",
      "row 40: First good pixel at row 0, Last good pixel at row 56\n",
      "row 41: First good pixel at row 0, Last good pixel at row 56\n",
      "row 42: First good pixel at row 0, Last good pixel at row 52\n",
      "row 43: First good pixel at row 0, Last good pixel at row 52\n",
      "row 44: First good pixel at row 0, Last good pixel at row 52\n",
      "row 45: First good pixel at row 0, Last good pixel at row 51\n",
      "row 46: First good pixel at row 0, Last good pixel at row 51\n",
      "row 47: First good pixel at row 23, Last good pixel at row 50\n",
      "row 48: First good pixel at row 26, Last good pixel at row 49\n",
      "row 49: First good pixel at row 26, Last good pixel at row 48\n",
      "row 50: First good pixel at row 28, Last good pixel at row 47\n",
      "row 51: First good pixel at row 31, Last good pixel at row 37\n"
     ]
    }
   ],
   "source": [
    "firstlast_row = h5.GetFirstLastRow(surface_data)\n",
    "for k,v in firstlast_row.items():\n",
    "    print(f\"{k}: First good pixel at row {v['first_good']}, Last good pixel at row {v['last_good']}\")"
   ]
  },
  {
   "cell_type": "code",
   "execution_count": 10,
   "metadata": {},
   "outputs": [
    {
     "name": "stdout",
     "output_type": "stream",
     "text": [
      "\n",
      "Number of Columns with Good Pixels:  86\n",
      "Average Pixels per Col:  41.7906976744186\n",
      "col 0: 47\n",
      "col 1: 45\n",
      "col 2: 46\n",
      "col 3: 40\n",
      "col 4: 41\n",
      "col 5: 39\n",
      "col 6: 40\n",
      "col 7: 41\n",
      "col 8: 42\n",
      "col 9: 43\n",
      "col 10: 41\n",
      "col 11: 37\n",
      "col 12: 37\n",
      "col 13: 37\n",
      "col 14: 37\n",
      "col 15: 38\n",
      "col 16: 38\n",
      "col 17: 39\n",
      "col 18: 41\n",
      "col 19: 42\n",
      "col 20: 41\n",
      "col 21: 42\n",
      "col 22: 43\n",
      "col 23: 46\n",
      "col 24: 46\n",
      "col 25: 48\n",
      "col 26: 50\n",
      "col 27: 50\n",
      "col 28: 51\n",
      "col 29: 51\n",
      "col 30: 51\n",
      "col 31: 52\n",
      "col 32: 52\n",
      "col 33: 52\n",
      "col 34: 51\n",
      "col 35: 50\n",
      "col 36: 51\n",
      "col 37: 51\n",
      "col 38: 49\n",
      "col 39: 49\n",
      "col 40: 49\n",
      "col 41: 49\n",
      "col 42: 49\n",
      "col 43: 50\n",
      "col 44: 51\n",
      "col 45: 51\n",
      "col 46: 51\n",
      "col 47: 51\n",
      "col 48: 50\n",
      "col 49: 49\n",
      "col 50: 48\n",
      "col 51: 47\n",
      "col 52: 45\n",
      "col 53: 41\n",
      "col 54: 39\n",
      "col 55: 40\n",
      "col 56: 40\n",
      "col 57: 38\n",
      "col 58: 35\n",
      "col 59: 37\n",
      "col 60: 34\n",
      "col 61: 33\n",
      "col 62: 34\n",
      "col 63: 33\n",
      "col 64: 32\n",
      "col 65: 30\n",
      "col 66: 31\n",
      "col 67: 31\n",
      "col 68: 31\n",
      "col 69: 29\n",
      "col 70: 27\n",
      "col 71: 28\n",
      "col 72: 27\n",
      "col 73: 33\n",
      "col 74: 34\n",
      "col 75: 36\n",
      "col 76: 37\n",
      "col 77: 38\n",
      "col 78: 39\n",
      "col 79: 40\n",
      "col 80: 40\n",
      "col 81: 40\n",
      "col 82: 40\n",
      "col 83: 40\n",
      "col 84: 40\n",
      "col 85: 40\n"
     ]
    }
   ],
   "source": [
    "col_data = h5.GetColumnGoodPixel(surface_data)\n",
    "for k,v in col_data.items():\n",
    "    print(f'{k}: {v}')"
   ]
  },
  {
   "cell_type": "code",
   "execution_count": 11,
   "metadata": {},
   "outputs": [
    {
     "name": "stdout",
     "output_type": "stream",
     "text": [
      "col 0: First good pixel at column 0, Last good pixel at column 46\n",
      "col 1: First good pixel at column 0, Last good pixel at column 44\n",
      "col 2: First good pixel at column 0, Last good pixel at column 46\n",
      "col 3: First good pixel at column 0, Last good pixel at column 39\n",
      "col 4: First good pixel at column 0, Last good pixel at column 42\n",
      "col 5: First good pixel at column 0, Last good pixel at column 38\n",
      "col 6: First good pixel at column 0, Last good pixel at column 39\n",
      "col 7: First good pixel at column 0, Last good pixel at column 40\n",
      "col 8: First good pixel at column 0, Last good pixel at column 42\n",
      "col 9: First good pixel at column 0, Last good pixel at column 43\n",
      "col 10: First good pixel at column 0, Last good pixel at column 43\n",
      "col 11: First good pixel at column 0, Last good pixel at column 36\n",
      "col 12: First good pixel at column 0, Last good pixel at column 36\n",
      "col 13: First good pixel at column 0, Last good pixel at column 36\n",
      "col 14: First good pixel at column 0, Last good pixel at column 36\n",
      "col 15: First good pixel at column 0, Last good pixel at column 37\n",
      "col 16: First good pixel at column 0, Last good pixel at column 37\n",
      "col 17: First good pixel at column 0, Last good pixel at column 38\n",
      "col 18: First good pixel at column 0, Last good pixel at column 42\n",
      "col 19: First good pixel at column 0, Last good pixel at column 43\n",
      "col 20: First good pixel at column 0, Last good pixel at column 40\n",
      "col 21: First good pixel at column 0, Last good pixel at column 41\n",
      "col 22: First good pixel at column 0, Last good pixel at column 42\n",
      "col 23: First good pixel at column 0, Last good pixel at column 47\n",
      "col 24: First good pixel at column 0, Last good pixel at column 45\n",
      "col 25: First good pixel at column 0, Last good pixel at column 47\n",
      "col 26: First good pixel at column 0, Last good pixel at column 49\n",
      "col 27: First good pixel at column 0, Last good pixel at column 49\n",
      "col 28: First good pixel at column 0, Last good pixel at column 50\n",
      "col 29: First good pixel at column 0, Last good pixel at column 50\n",
      "col 30: First good pixel at column 0, Last good pixel at column 50\n",
      "col 31: First good pixel at column 0, Last good pixel at column 51\n",
      "col 32: First good pixel at column 0, Last good pixel at column 51\n",
      "col 33: First good pixel at column 0, Last good pixel at column 51\n",
      "col 34: First good pixel at column 0, Last good pixel at column 50\n",
      "col 35: First good pixel at column 0, Last good pixel at column 49\n",
      "col 36: First good pixel at column 0, Last good pixel at column 51\n",
      "col 37: First good pixel at column 0, Last good pixel at column 51\n",
      "col 38: First good pixel at column 0, Last good pixel at column 48\n",
      "col 39: First good pixel at column 0, Last good pixel at column 48\n",
      "col 40: First good pixel at column 0, Last good pixel at column 48\n",
      "col 41: First good pixel at column 0, Last good pixel at column 48\n",
      "col 42: First good pixel at column 0, Last good pixel at column 48\n",
      "col 43: First good pixel at column 0, Last good pixel at column 49\n",
      "col 44: First good pixel at column 0, Last good pixel at column 50\n",
      "col 45: First good pixel at column 0, Last good pixel at column 50\n",
      "col 46: First good pixel at column 0, Last good pixel at column 50\n",
      "col 47: First good pixel at column 0, Last good pixel at column 50\n",
      "col 48: First good pixel at column 0, Last good pixel at column 49\n",
      "col 49: First good pixel at column 0, Last good pixel at column 48\n",
      "col 50: First good pixel at column 0, Last good pixel at column 47\n",
      "col 51: First good pixel at column 0, Last good pixel at column 46\n",
      "col 52: First good pixel at column 0, Last good pixel at column 44\n",
      "col 53: First good pixel at column 0, Last good pixel at column 40\n",
      "col 54: First good pixel at column 0, Last good pixel at column 38\n",
      "col 55: First good pixel at column 0, Last good pixel at column 40\n",
      "col 56: First good pixel at column 0, Last good pixel at column 41\n",
      "col 57: First good pixel at column 0, Last good pixel at column 39\n",
      "col 58: First good pixel at column 0, Last good pixel at column 34\n",
      "col 59: First good pixel at column 0, Last good pixel at column 37\n",
      "col 60: First good pixel at column 0, Last good pixel at column 33\n",
      "col 61: First good pixel at column 0, Last good pixel at column 32\n",
      "col 62: First good pixel at column 0, Last good pixel at column 34\n",
      "col 63: First good pixel at column 0, Last good pixel at column 34\n",
      "col 64: First good pixel at column 0, Last good pixel at column 34\n",
      "col 65: First good pixel at column 0, Last good pixel at column 29\n",
      "col 66: First good pixel at column 0, Last good pixel at column 33\n",
      "col 67: First good pixel at column 0, Last good pixel at column 31\n",
      "col 68: First good pixel at column 0, Last good pixel at column 31\n",
      "col 69: First good pixel at column 0, Last good pixel at column 28\n",
      "col 70: First good pixel at column 0, Last good pixel at column 26\n",
      "col 71: First good pixel at column 0, Last good pixel at column 27\n",
      "col 72: First good pixel at column 0, Last good pixel at column 26\n",
      "col 73: First good pixel at column 0, Last good pixel at column 32\n",
      "col 74: First good pixel at column 0, Last good pixel at column 33\n",
      "col 75: First good pixel at column 0, Last good pixel at column 35\n",
      "col 76: First good pixel at column 0, Last good pixel at column 36\n",
      "col 77: First good pixel at column 0, Last good pixel at column 37\n",
      "col 78: First good pixel at column 0, Last good pixel at column 38\n",
      "col 79: First good pixel at column 0, Last good pixel at column 39\n",
      "col 80: First good pixel at column 0, Last good pixel at column 39\n",
      "col 81: First good pixel at column 0, Last good pixel at column 39\n",
      "col 82: First good pixel at column 0, Last good pixel at column 39\n",
      "col 83: First good pixel at column 0, Last good pixel at column 39\n",
      "col 84: First good pixel at column 0, Last good pixel at column 39\n",
      "col 85: First good pixel at column 0, Last good pixel at column 39\n"
     ]
    }
   ],
   "source": [
    "firstlast_col = h5.GetFirstLastColumn(surface_data)\n",
    "for k,v in firstlast_col.items():\n",
    "    print(f\"{k}: First good pixel at column {v['first_good']}, Last good pixel at column {v['last_good']}\")"
   ]
  }
 ],
 "metadata": {
  "kernelspec": {
   "display_name": ".venv",
   "language": "python",
   "name": "python3"
  },
  "language_info": {
   "codemirror_mode": {
    "name": "ipython",
    "version": 3
   },
   "file_extension": ".py",
   "mimetype": "text/x-python",
   "name": "python",
   "nbconvert_exporter": "python",
   "pygments_lexer": "ipython3",
   "version": "3.12.3"
  }
 },
 "nbformat": 4,
 "nbformat_minor": 2
}

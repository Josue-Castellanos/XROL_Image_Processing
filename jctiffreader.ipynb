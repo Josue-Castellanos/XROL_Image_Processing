{
 "cells": [
  {
   "cell_type": "code",
   "execution_count": 1,
   "metadata": {},
   "outputs": [],
   "source": [
    "from PIL import Image\n",
    "import numpy as np"
   ]
  },
  {
   "cell_type": "code",
   "execution_count": 4,
   "metadata": {},
   "outputs": [
    {
     "name": "stdout",
     "output_type": "stream",
     "text": [
      "TIFF\n",
      "Data type: int32\n",
      "Min value: -32766\n",
      "Max value: 32751\n",
      "(2160, 4096)\n",
      "Saturated values count: 48\n",
      "Negative values count: 36539\n",
      "\n",
      "\n"
     ]
    }
   ],
   "source": [
    "print(\"TIFF\")\n",
    "# Open the TIFF file\n",
    "tiff_path = '/Users/josuecastellanos/Documents/XROL_Image_Processing/Image Single Motor Scan 000596 Images/Image Single Motor Scan 000596 2D Image 001.Tiff'\n",
    "tiff_image = Image.open(tiff_path)\n",
    "\n",
    "# Convert the image to a NumPy array\n",
    "tiff_data = np.array(tiff_image)\n",
    "\n",
    "# Check the data type and range\n",
    "print(f'Data type: {tiff_data.dtype}')\n",
    "print(f'Min value: {tiff_data.min()}')\n",
    "print(f'Max value: {tiff_data.max()}')\n",
    "print(tiff_data.shape)\n",
    "\n",
    "saturated_values = tiff_data[tiff_data >= 32751]\n",
    "negative_values = tiff_data[tiff_data < 0]\n",
    "\n",
    "print(f'Saturated values count: {len(saturated_values)}')\n",
    "print(f'Negative values count: {len(negative_values)}')\n",
    "print('\\n')"
   ]
  }
 ],
 "metadata": {
  "kernelspec": {
   "display_name": ".venv",
   "language": "python",
   "name": "python3"
  },
  "language_info": {
   "codemirror_mode": {
    "name": "ipython",
    "version": 3
   },
   "file_extension": ".py",
   "mimetype": "text/x-python",
   "name": "python",
   "nbconvert_exporter": "python",
   "pygments_lexer": "ipython3",
   "version": "3.12.3"
  }
 },
 "nbformat": 4,
 "nbformat_minor": 2
}

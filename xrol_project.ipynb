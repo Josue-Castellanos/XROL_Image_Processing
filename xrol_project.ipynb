{
 "cells": [
  {
   "cell_type": "code",
   "execution_count": null,
   "metadata": {},
   "outputs": [],
   "source": [
    "from xrol.jcxrol import H5 as h5\n",
    "from xrol.jcxrol import Plot as plt\n",
    "from xrol.jcxrol import Graph as ph\n",
    "\n",
    "from glob import glob\n",
    "import csv\n",
    "import numpy as np\n",
    "\n",
    "dir_path = '/Volumes/SanDisk/'\n",
    "#file_path = f'{dir_path}ZygoNewView/run{scan}/newview x=-1957.519531 y=-81819.580078/MCLz=-8.000000.datx'\n",
    "\n",
    "file_path = glob(f'{dir_path}ASPIRES/*.datx')"
   ]
  },
  {
   "cell_type": "markdown",
   "metadata": {},
   "source": [
    "## Surface Data"
   ]
  },
  {
   "cell_type": "code",
   "execution_count": null,
   "metadata": {},
   "outputs": [],
   "source": [
    "# Surface Data\n",
    "surface_data, sunit = h5.ReadFile(file_path, type='surface')\n",
    "print(surface_data.shape)\n"
   ]
  },
  {
   "cell_type": "markdown",
   "metadata": {},
   "source": [
    "## Intensity Data"
   ]
  },
  {
   "cell_type": "code",
   "execution_count": null,
   "metadata": {},
   "outputs": [],
   "source": [
    "# Intensity Data\n",
    "intensity_data, iunit = h5.ReadFile(file_path, type='intensity')\n",
    "print(intensity_data.shape)"
   ]
  },
  {
   "cell_type": "markdown",
   "metadata": {},
   "source": [
    "## Header Data"
   ]
  },
  {
   "cell_type": "code",
   "execution_count": null,
   "metadata": {},
   "outputs": [],
   "source": [
    "# Header Data\n",
    "header_data = h5.ReadFile(file_path, type='header')"
   ]
  },
  {
   "cell_type": "markdown",
   "metadata": {},
   "source": [
    "\t\t\n",
    "\t\tTo determine the length of the substrate from the Fizeau interferometer scan data, we need to extract relevant information \n",
    "    \tabout the lateral resolution and the dimensions of the Substrate. Here's how we can interpret the data provided:\n",
    "\t\tPixels:\n",
    "\t\t\t\n",
    "\t\tLateral Resolution:\n",
    "\t\t\tResolution: meters per pixel\n",
    "\n",
    "\t\tHere's my calculation:\n",
    "\t\t\tLength of substrate = Pixels x Resolution"
   ]
  },
  {
   "cell_type": "markdown",
   "metadata": {},
   "source": [
    "## Width"
   ]
  },
  {
   "cell_type": "code",
   "execution_count": null,
   "metadata": {},
   "outputs": [],
   "source": [
    "# c = h5.GetTotalColumnsList(surface_data)\n",
    "# gc = h5.GetGoodPixelList(c)\n",
    "# t = h5.GetGoodCount(gc)\n",
    "# l = h5.GetSubstrateLength(t)\n",
    "# for i, val in enumerate(l):\n",
    "#     print(f'{val} Meters')\n"
   ]
  },
  {
   "cell_type": "markdown",
   "metadata": {},
   "source": [
    "## Height"
   ]
  },
  {
   "cell_type": "code",
   "execution_count": null,
   "metadata": {},
   "outputs": [],
   "source": [
    "# r = h5.GetTotalRowsList(surface_data)\n",
    "# gr = h5.GetGoodPixelList(r)\n",
    "# t = h5.GetGoodCount(gr)\n",
    "# l = h5.GetSubstrateLength(t)\n",
    "# for i, val in enumerate(l):\n",
    "#     print(f'{val} Meters')"
   ]
  },
  {
   "cell_type": "markdown",
   "metadata": {},
   "source": [
    "## Average Row Pixels Per image"
   ]
  },
  {
   "cell_type": "code",
   "execution_count": null,
   "metadata": {},
   "outputs": [],
   "source": [
    "# total_row_data = h5.GetTotalRowsList(surface_data)\n",
    "# good_row_data = h5.GetGoodPixelList(total_row_data)\n",
    "# row_avg = h5.GetPixelAvg(good_row_data)\n",
    "# for i, val in enumerate(row_avg):\n",
    "#     print(f'Image {i+1} Row Average: {val} Pixels')"
   ]
  },
  {
   "cell_type": "markdown",
   "metadata": {},
   "source": [
    "## Pixels in Rows"
   ]
  },
  {
   "cell_type": "code",
   "execution_count": null,
   "metadata": {},
   "outputs": [],
   "source": [
    "# clean_row_data = h5.CleanGoodPixelList(good_row_data, row_avg)\n",
    "# for idx in range(len(clean_row_data)):\n",
    "#     print(f\"{idx}:\")\n",
    "#     for key, value in clean_row_data[idx].items():\n",
    "#         print(f\"    '{key}': {value}\")"
   ]
  },
  {
   "cell_type": "markdown",
   "metadata": {},
   "source": [
    "## Standard Deviation\n",
    "**A Standard Deviation is a measure of how dispersed the data is in relation to the mean**"
   ]
  },
  {
   "cell_type": "code",
   "execution_count": null,
   "metadata": {},
   "outputs": [],
   "source": [
    "# std = h5.GetStandardDev(clean_row_data)\n",
    "# for i, val in enumerate(std):\n",
    "#     print(f'Image {i+1} Standard Deviation {val} Pixels')\n",
    "# Multiply lat res"
   ]
  },
  {
   "cell_type": "markdown",
   "metadata": {},
   "source": [
    "## First and Last Row"
   ]
  },
  {
   "cell_type": "code",
   "execution_count": null,
   "metadata": {},
   "outputs": [],
   "source": [
    "# firstlast_row = h5.GetFirstLastRow(surface_data)\n",
    "# for idx in range(len(firstlast_row)):\n",
    "#     print(f\"{idx}:\")\n",
    "#     for k, v in firstlast_row[idx].items():\n",
    "#         print(f\"{k}: First good pixel at column {v['first_good']}, Last good pixel at column {v['last_good']}\")"
   ]
  },
  {
   "cell_type": "markdown",
   "metadata": {},
   "source": [
    "## Get Average Pixels In Columns"
   ]
  },
  {
   "cell_type": "code",
   "execution_count": null,
   "metadata": {},
   "outputs": [],
   "source": [
    "# total_col_data = h5.GetTotalColumnsList(surface_data)\n",
    "# good_col_data = h5.GetGoodPixelList(total_col_data)\n",
    "# col_avg = h5.GetPixelAvg(good_col_data)\n",
    "# for i, val in enumerate(col_avg):\n",
    "#     print(f'Image {i+1} Column Average: {val} Pixels')\n"
   ]
  },
  {
   "cell_type": "markdown",
   "metadata": {},
   "source": [
    "## Pixels In Columns"
   ]
  },
  {
   "cell_type": "code",
   "execution_count": null,
   "metadata": {},
   "outputs": [],
   "source": [
    "# clean_col_data = h5.CleanGoodPixelList(good_col_data, col_avg)\n",
    "# for idx in range(len(clean_col_data)):\n",
    "#     print(f\"{idx}:\")\n",
    "#     for key, value in clean_col_data[idx].items():\n",
    "#         print(f\"    '{key}': {value}\")"
   ]
  },
  {
   "cell_type": "code",
   "execution_count": null,
   "metadata": {},
   "outputs": [],
   "source": [
    "# firstlast_col = h5.GetFirstLastColumn(surface_data)\n",
    "# for idx in range(len(firstlast_col)):\n",
    "#     print(f\"{idx}:\")\n",
    "#     for k, v in firstlast_col[idx].items():\n",
    "#         print(f\"{k}: First good pixel at row {v['first_good']}, Last good pixel at row {v['last_good']}\")"
   ]
  },
  {
   "cell_type": "markdown",
   "metadata": {},
   "source": [
    "## Get Middle Column(s)"
   ]
  },
  {
   "cell_type": "code",
   "execution_count": null,
   "metadata": {},
   "outputs": [],
   "source": [
    "middle_cols = h5.GetMiddleColumn(surface_data)\n",
    "middle_cols.shape"
   ]
  },
  {
   "cell_type": "markdown",
   "metadata": {},
   "source": [
    "## Write Middle Columns to CSV"
   ]
  },
  {
   "cell_type": "code",
   "execution_count": null,
   "metadata": {},
   "outputs": [],
   "source": [
    "# # Write each column to a separate CSV file\n",
    "# for i, column in enumerate(middle_cols):\n",
    "#     csv_file = f'middle_column_{i+1}.csv'\n",
    "#     with open(csv_file, 'w', newline='') as file:\n",
    "#         writer = csv.writer(file)\n",
    "#         for value in column:\n",
    "#             writer.writerow([value])"
   ]
  },
  {
   "cell_type": "markdown",
   "metadata": {},
   "source": [
    "## Plot"
   ]
  },
  {
   "cell_type": "code",
   "execution_count": null,
   "metadata": {},
   "outputs": [],
   "source": [
    "ph.Plot3DColumnSurfaces(middle_cols)"
   ]
  },
  {
   "cell_type": "code",
   "execution_count": null,
   "metadata": {},
   "outputs": [],
   "source": [
    "ph.plot_3d_surface_multi1(surface_data)"
   ]
  },
  {
   "cell_type": "code",
   "execution_count": null,
   "metadata": {},
   "outputs": [],
   "source": [
    "ph.Plot3DMultiSurfaces(surface_data)\n"
   ]
  },
  {
   "cell_type": "code",
   "execution_count": null,
   "metadata": {},
   "outputs": [],
   "source": [
    "#ph.GraphData(middle_cols)"
   ]
  },
  {
   "cell_type": "code",
   "execution_count": null,
   "metadata": {},
   "outputs": [],
   "source": [
    "#plt.PlotData(surface_data)"
   ]
  },
  {
   "cell_type": "code",
   "execution_count": null,
   "metadata": {},
   "outputs": [],
   "source": [
    "#plt.PlotData(intensity_data)"
   ]
  }
 ],
 "metadata": {
  "kernelspec": {
   "display_name": ".venv",
   "language": "python",
   "name": "python3"
  },
  "language_info": {
   "codemirror_mode": {
    "name": "ipython",
    "version": 3
   },
   "file_extension": ".py",
   "mimetype": "text/x-python",
   "name": "python",
   "nbconvert_exporter": "python",
   "pygments_lexer": "ipython3",
   "version": "3.12.3"
  }
 },
 "nbformat": 4,
 "nbformat_minor": 2
}

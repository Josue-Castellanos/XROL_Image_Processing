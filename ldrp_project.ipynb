{
 "cells": [
  {
   "cell_type": "code",
   "execution_count": null,
   "id": "6a864fa5",
   "metadata": {},
   "outputs": [],
   "source": [
    "# Josue Castellanos (2024)\n",
    "# This script is for interferogram analysis as part of the PX Beamlines LDRD Project\n",
    "import os\n",
    "from glob import glob\n",
    "import os\n",
    "from PIL import Image\n",
    "import pandas as pd\n",
    "from io import StringIO\n",
    "\n",
    "\n",
    "# carpenmentalize the process to work with a certain data. \n",
    "\n",
    "# put images together as a motor coordinate, could be negative\n",
    "\n",
    "# 3 or 4th data file in txt have coordinates\n",
    "\n",
    "# Get coordinates from txt, associate the coordinates to KCube DC 2 Goal, Actual (Actual is the best alignment)\n",
    "\n",
    "# Rotate - left side is west , right side is east, 90 degree rotation -90 or +90\n",
    "\n",
    "# X motor is negative\n",
    "\n",
    "# what direction is it scanning?\n",
    "\n",
    "# radius coparison \n",
    "\n",
    "# Stitch - actual distance and camera, effective pixel size , subtract one image from another to see the difference\n",
    "\n",
    "# Where are we on the surface, scan 601 , lets pass into the code the cropped rotated image that has the coordinate on the file name so we can reference that to where it is in space\n"
   ]
  },
  {
   "cell_type": "code",
   "execution_count": null,
   "id": "0f7bfefa",
   "metadata": {},
   "outputs": [],
   "source": [
    "def GlobFileNames(dirNum):\n",
    "    basepath = '/Volumes/SanDisk/Image Single Motor Scan'  # My sandisk drive\n",
    "    #basepath = '/Beamline Controls/BCS Setup Data/240625'\n",
    "    \n",
    "    dir_path = f'{basepath} 000{dirNum} Images/*.Png'\n",
    "    \n",
    "    # if not os.path.isfile(dir_path):\n",
    "    #     print(f\"File not found: {dir_path}\")\n",
    "    #     return\n",
    "    \n",
    "    file_list = glob(dir_path)  # Sort list\n",
    "    file_list.sort()\n",
    "    \n",
    "    return file_list"
   ]
  },
  {
   "cell_type": "code",
   "execution_count": null,
   "id": "24aed95e",
   "metadata": {},
   "outputs": [],
   "source": [
    "def ExtractData(fp):\n",
    "    # Read the file content\n",
    "    with open(fp, 'r') as file:\n",
    "        lines = file.readlines()\n",
    "\n",
    "    # Find the line where DATA starts\n",
    "    for i, line in enumerate(lines):\n",
    "        if 'DATA' in line:\n",
    "            data_start_idx = i + 1\n",
    "            break\n",
    "    \n",
    "    return data_start_idx, lines"
   ]
  },
  {
   "cell_type": "code",
   "execution_count": null,
   "id": "a6ff3a38",
   "metadata": {},
   "outputs": [],
   "source": [
    "def ReadData2DF(start_index, lines):\n",
    "    # Read the data into a pandas DataFrame\n",
    "    data_lines = lines[start_index:]\n",
    "    data_str = ''.join(data_lines)\n",
    "    \n",
    "    # Convert the data into a DataFrame\n",
    "    data = StringIO(data_str)\n",
    "    df = pd.read_csv(data, sep='\\t')\n",
    "\n",
    "    return df"
   ]
  },
  {
   "cell_type": "code",
   "execution_count": null,
   "id": "45009b72",
   "metadata": {},
   "outputs": [],
   "source": [
    "def ModifyFilename(file):\n",
    "    basename = os.path.basename(file)\n",
    "    # Remove a specific part of the string\n",
    "    modified_basename = basename.replace('Image Single Motor Scan ', '')\n",
    "    modified_basename = modified_basename.replace(' ', '_')\n",
    "\n",
    "    return modified_basename"
   ]
  },
  {
   "cell_type": "code",
   "execution_count": null,
   "id": "61e11072",
   "metadata": {},
   "outputs": [],
   "source": [
    "def CropRotateImagesToRegion(file, startXpixel, endXpixel, startYpixel, endYpixel, coordinate):\n",
    "    # Open an image file\n",
    "    with Image.open(file) as img:\n",
    "        # Crop the image\n",
    "        cropped_img = img.crop((startXpixel, startYpixel, endXpixel, endYpixel))\n",
    "        # Rotate the image 90 degrees, Pillow 90 default is counterclockwise so -90 is needed for clockwise\n",
    "        rotated_img = cropped_img.rotate(-90, expand=True)\n",
    "        # Modify the new file name of image\n",
    "        mod_name = ModifyFilename(file)\n",
    "        # Save the cropped image\n",
    "        cropped_file = f\"Cropped_Rotated_{coordinate}mm_\" + mod_name\n",
    "        rotated_img.save(cropped_file)\n",
    "        print(f\"Cropped image saved as: {cropped_file}\")\n",
    "        \n",
    "        return cropped_file"
   ]
  },
  {
   "cell_type": "code",
   "execution_count": null,
   "id": "deed17cf",
   "metadata": {},
   "outputs": [],
   "source": [
    "def CropImages(files, startXpixel, endXpixel, startYpixel, endYpixel, coords):\n",
    "    croppedFiles = []\n",
    "    for file, coordinate in zip(files, coords):\n",
    "        cropped_file = CropRotateImagesToRegion(file, startXpixel, endXpixel, startYpixel, endYpixel, coordinate)\n",
    "        if cropped_file:\n",
    "            croppedFiles.append(cropped_file)\n",
    "\n",
    "    return croppedFiles"
   ]
  },
  {
   "cell_type": "code",
   "execution_count": null,
   "id": "0f856852",
   "metadata": {},
   "outputs": [],
   "source": [
    "def GetTwoImages(coordinate1, point1, coordinate2, point2):\n",
    "    return"
   ]
  },
  {
   "cell_type": "code",
   "execution_count": null,
   "id": "08c6f906",
   "metadata": {},
   "outputs": [],
   "source": [
    "def ReadModifiedImages(dirNum):\n",
    "    # Read the cropped images from disk and return them as a list\n",
    "    cropped_files = [os.path.join(dirNum, f) for f in os.listdir(dirNum) if \"_cropped\" in f]\n",
    "    return cropped_files"
   ]
  },
  {
   "cell_type": "code",
   "execution_count": null,
   "id": "7f9ad8b6",
   "metadata": {},
   "outputs": [],
   "source": [
    "# Below is testing the functionality\n",
    "# Replace with the desired directory number 000599, 000600, 000601...etc\n",
    "file_index = 599\n",
    "file_names = GlobFileNames(file_index)\n",
    "\n",
    "for f in file_names:\n",
    "    print(f)"
   ]
  },
  {
   "cell_type": "code",
   "execution_count": null,
   "id": "b9a976ba",
   "metadata": {},
   "outputs": [],
   "source": [
    "# Replace with the actual path to the text file\n",
    "header_path = (f'/Volumes/SanDisk/Image Single Motor Scan 000{file_index}.txt' ) \n",
    "\n",
    "# Extract All lines in txt file and provide a start index \n",
    "start_index, lines = ExtractData(header_path)\n",
    "data = ReadData2DF(start_index, lines)"
   ]
  },
  {
   "cell_type": "code",
   "execution_count": null,
   "id": "32b8d7fc",
   "metadata": {},
   "outputs": [],
   "source": [
    "def CleanData(dict, column):\n",
    "    df = dict.iloc[:,column - 1].tolist()\n",
    "    return df\n",
    "\n",
    "column = 4    # Column in dataframe\n",
    "coordinates = CleanData(data, column)\n",
    "coordinates"
   ]
  },
  {
   "cell_type": "code",
   "execution_count": null,
   "id": "6eae4bb3",
   "metadata": {},
   "outputs": [],
   "source": [
    "startXpixel = 780\n",
    "endXpixel = 2500\n",
    "startYpixel = 10\n",
    "endYpixel = 1400\n",
    "\n",
    "cropped_files = CropImages(file_names, startXpixel, endXpixel, startYpixel, endYpixel, coordinates)\n"
   ]
  },
  {
   "cell_type": "markdown",
   "id": "900ee324",
   "metadata": {},
   "source": [
    "**TESTING BELOW**"
   ]
  }
 ],
 "metadata": {
  "kernelspec": {
   "display_name": "Python 3 (ipykernel)",
   "language": "python",
   "name": "python3"
  },
  "language_info": {
   "codemirror_mode": {
    "name": "ipython",
    "version": 3
   },
   "file_extension": ".py",
   "mimetype": "text/x-python",
   "name": "python",
   "nbconvert_exporter": "python",
   "pygments_lexer": "ipython3",
   "version": "3.12.3"
  }
 },
 "nbformat": 4,
 "nbformat_minor": 5
}
